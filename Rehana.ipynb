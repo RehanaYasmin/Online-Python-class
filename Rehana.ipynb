{
 "cells": [
  {
   "cell_type": "code",
   "execution_count": 1,
   "id": "c988d45e",
   "metadata": {},
   "outputs": [
    {
     "data": {
      "text/plain": [
       "'Hello world'"
      ]
     },
     "execution_count": 1,
     "metadata": {},
     "output_type": "execute_result"
    }
   ],
   "source": [
    "(\"Hello world\")"
   ]
  },
  {
   "cell_type": "code",
   "execution_count": 21,
   "id": "f9306d15",
   "metadata": {
    "scrolled": true
   },
   "outputs": [
    {
     "name": "stdout",
     "output_type": "stream",
     "text": [
      "Twinkle, twinkle, little star,\n",
      "        How I wonder what you are!\n",
      "            Up above the word so high,\n",
      "            Like a diamond in the sky.\n",
      "Twinkle, twinkle, litlle star\n",
      "        How i wondar what you are\n"
     ]
    }
   ],
   "source": [
    "x = ('''Twinkle, twinkle, little star,\n",
    "        How I wonder what you are!\n",
    "            Up above the word so high,\n",
    "            Like a diamond in the sky.\n",
    "Twinkle, twinkle, litlle star\n",
    "        How i wondar what you are''');                         \n",
    "print(x);"
   ]
  },
  {
   "cell_type": "code",
   "execution_count": 24,
   "id": "bdcf6698",
   "metadata": {},
   "outputs": [
    {
     "name": "stdout",
     "output_type": "stream",
     "text": [
      "Python3 (ipykemel)\n"
     ]
    }
   ],
   "source": [
    "programme = \"Python3\";\n",
    "version = \" (ipykemel)\";\n",
    "name = programme + version;\n",
    "print(name);"
   ]
  },
  {
   "cell_type": "code",
   "execution_count": 32,
   "id": "2a1a68a2",
   "metadata": {},
   "outputs": [
    {
     "name": "stdout",
     "output_type": "stream",
     "text": [
      "Yasmin Rehana\n"
     ]
    }
   ],
   "source": [
    "fname = \" Rehana\";\n",
    "lname = \"Yasmin\";\n",
    "print(lname + fname);"
   ]
  },
  {
   "cell_type": "code",
   "execution_count": 40,
   "id": "a57abefc",
   "metadata": {},
   "outputs": [
    {
     "name": "stdout",
     "output_type": "stream",
     "text": [
      "current date and time is:\n",
      "03-01-22\n",
      "14:42:40 PM\n"
     ]
    }
   ],
   "source": [
    "import datetime\n",
    "now = datetime.datetime.now ();\n",
    "print(\"current date and time is:\");\n",
    "print(now.strftime(\"%d-%m-%y\"));\n",
    "print(now.strftime(\"%H:%M:%S PM\"));"
   ]
  },
  {
   "cell_type": "code",
   "execution_count": 45,
   "id": "de5be289",
   "metadata": {},
   "outputs": [
    {
     "name": "stdout",
     "output_type": "stream",
     "text": [
      "200.96\n"
     ]
    }
   ],
   "source": [
    "import math\n",
    "r = 8;\n",
    "area = 3.14 * 8 * 8;\n",
    "print(area);"
   ]
  },
  {
   "cell_type": "code",
   "execution_count": 46,
   "id": "22e1da6c",
   "metadata": {},
   "outputs": [
    {
     "name": "stdout",
     "output_type": "stream",
     "text": [
      "15\n"
     ]
    }
   ],
   "source": [
    "a = 7;\n",
    "b = 8;\n",
    "c = a + b;\n",
    "print(c);"
   ]
  },
  {
   "cell_type": "code",
   "execution_count": null,
   "id": "97950bc9",
   "metadata": {},
   "outputs": [],
   "source": []
  }
 ],
 "metadata": {
  "kernelspec": {
   "display_name": "Python 3 (ipykernel)",
   "language": "python",
   "name": "python3"
  },
  "language_info": {
   "codemirror_mode": {
    "name": "ipython",
    "version": 3
   },
   "file_extension": ".py",
   "mimetype": "text/x-python",
   "name": "python",
   "nbconvert_exporter": "python",
   "pygments_lexer": "ipython3",
   "version": "3.9.7"
  }
 },
 "nbformat": 4,
 "nbformat_minor": 5
}
